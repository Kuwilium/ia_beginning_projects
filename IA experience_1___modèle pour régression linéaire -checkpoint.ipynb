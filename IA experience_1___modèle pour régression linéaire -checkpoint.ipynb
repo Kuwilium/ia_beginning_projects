{
 "cells": [
  {
   "cell_type": "code",
   "execution_count": null,
   "id": "0c0024f3",
   "metadata": {},
   "outputs": [],
   "source": [
    "# This is a program for linear regression"
   ]
  },
  {
   "cell_type": "code",
   "execution_count": 10,
   "id": "0c48e6e3",
   "metadata": {},
   "outputs": [],
   "source": [
    "import numpy as np\n",
    "import matplotlib.pyplot as plt\n",
    "from sklearn.datasets import make_regression\n",
    "from sklearn.linear_model import SGDRegressor"
   ]
  },
  {
   "cell_type": "code",
   "execution_count": 6,
   "id": "bf36f028",
   "metadata": {},
   "outputs": [],
   "source": [
    "# Make a dataset who x=100 and y=1"
   ]
  },
  {
   "cell_type": "code",
   "execution_count": 29,
   "id": "7bb8238d",
   "metadata": {},
   "outputs": [
    {
     "data": {
      "text/plain": [
       "<matplotlib.collections.PathCollection at 0x2c693a60970>"
      ]
     },
     "execution_count": 29,
     "metadata": {},
     "output_type": "execute_result"
    },
    {
     "data": {
      "image/png": "[encoded data removed]",
      "text/plain": [
       "<Figure size 432x288 with 1 Axes>"
      ]
     },
     "metadata": {
      "needs_background": "light"
     },
     "output_type": "display_data"
    }
   ],
   "source": [
    "np.random.seed(0)\n",
    "x, y = make_regression(n_samples=100, n_features=1, noise=10)\n",
    "plt.scatter(x, y)"
   ]
  },
  {
   "cell_type": "code",
   "execution_count": 19,
   "id": "53de57fb",
   "metadata": {},
   "outputs": [],
   "source": [
    "# I fit(train) my model who take for value the generator SGDRegressor who include the nb of repetitions and the learning rate"
   ]
  },
  {
   "cell_type": "code",
   "execution_count": 30,
   "id": "8c4ad2a7",
   "metadata": {},
   "outputs": [
    {
     "data": {
      "text/plain": [
       "SGDRegressor(eta0=0.001)"
      ]
     },
     "execution_count": 30,
     "metadata": {},
     "output_type": "execute_result"
    }
   ],
   "source": [
    "model = SGDRegressor(max_iter=1000, eta0=0.001)\n",
    "model.fit(x,y)"
   ]
  },
  {
   "cell_type": "code",
   "execution_count": 31,
   "id": "c1a706c0",
   "metadata": {},
   "outputs": [
    {
     "name": "stdout",
     "output_type": "stream",
     "text": [
      "Coeff R2 = 0.9416567569675361\n"
     ]
    },
    {
     "data": {
      "text/plain": [
       "[<matplotlib.lines.Line2D at 0x2c693ab6be0>]"
      ]
     },
     "execution_count": 31,
     "metadata": {},
     "output_type": "execute_result"
    },
    {
     "data": {
      "image/png": "[encoded data removed]",
      "text/plain": [
       "<Figure size 432x288 with 1 Axes>"
      ]
     },
     "metadata": {
      "needs_background": "light"
     },
     "output_type": "display_data"
    }
   ],
   "source": [
    "print('Coeff R2 =', model.score(x, y))\n",
    "plt.scatter(x, y)\n",
    "plt.plot(x, model.predict(x), c='red', lw = 3)"
   ]
  },
  {
   "cell_type": "code",
   "execution_count": null,
   "id": "2c567c7b",
   "metadata": {},
   "outputs": [],
   "source": []
  }
 ],
 "metadata": {
  "kernelspec": {
   "display_name": "Python 3",
   "language": "python",
   "name": "python3"
  },
  "language_info": {
   "codemirror_mode": {
    "name": "ipython",
    "version": 3
   },
   "file_extension": ".py",
   "mimetype": "text/x-python",
   "name": "python",
   "nbconvert_exporter": "python",
   "pygments_lexer": "ipython3",
   "version": "3.8.8"
  }
 },
 "nbformat": 4,
 "nbformat_minor": 5
}
